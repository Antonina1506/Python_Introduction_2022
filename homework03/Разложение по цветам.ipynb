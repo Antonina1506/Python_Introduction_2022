{
 "cells": [
  {
   "cell_type": "code",
   "execution_count": 1,
   "id": "cbb18755",
   "metadata": {},
   "outputs": [],
   "source": [
    "from PIL import Image\n",
    "import numpy as np"
   ]
  },
  {
   "cell_type": "code",
   "execution_count": 2,
   "id": "7a6e763b",
   "metadata": {},
   "outputs": [],
   "source": [
    "img = Image.open('soul.jpg')"
   ]
  },
  {
   "cell_type": "code",
   "execution_count": 3,
   "id": "e5ff9dee",
   "metadata": {},
   "outputs": [],
   "source": [
    "#Раскладываем картинку на матрицы 3-х разных цветов\n",
    "x = np.array(img, dtype = np.float32)\n",
    "red = x[:,:,0]\n",
    "green = x[:,:,1]\n",
    "blue = x[:,:,2]"
   ]
  },
  {
   "cell_type": "code",
   "execution_count": 4,
   "id": "aa862c6c",
   "metadata": {},
   "outputs": [
    {
     "name": "stdout",
     "output_type": "stream",
     "text": [
      "(3743, 6000, 3)\n"
     ]
    }
   ],
   "source": [
    "#Раскладываем каждую матрицу на 3 матрицы по SVD\n",
    "U_red, S_red, V_red = np.linalg.svd(red, full_matrices = False)\n",
    "U_green, S_green, V_green = np.linalg.svd(green, full_matrices = False)\n",
    "U_blue, S_blue, V_blue = np.linalg.svd(blue, full_matrices = False)\n",
    "print(x.shape)"
   ]
  },
  {
   "cell_type": "code",
   "execution_count": 8,
   "id": "9f81aa18",
   "metadata": {},
   "outputs": [],
   "source": [
    "for i in range(1,400,40):\n",
    "    Y_i_red = U_red[:,:i].dot(np.diag(S_red[:i])).dot(V_red[:i,:]) \n",
    "    Y_i_red[Y_i_red < 0] = 0\n",
    "    Y_i_red[Y_i_red > 255] = 255\n",
    "    Y_i_red = Y_i_red.reshape(3743, 6000, 1)\n",
    "    Y_i_green = U_green[:,:i].dot(np.diag(S_green[:i])).dot(V_green[:i,:]) \n",
    "    Y_i_green[Y_i_green < 0] = 0\n",
    "    Y_i_green[Y_i_green > 255] = 255\n",
    "    Y_i_green = Y_i_green.reshape(3743, 6000, 1)\n",
    "    Y_i_blue = U_blue[:,:i].dot(np.diag(S_blue[:i])).dot(V_blue[:i,:]) \n",
    "    Y_i_blue[Y_i_blue < 0] = 0\n",
    "    Y_i_blue[Y_i_blue > 255] = 255\n",
    "    Y_i_blue = Y_i_blue.reshape(3743, 6000, 1)\n",
    "    Y_i = np.concatenate((np.concatenate((Y_i_red, Y_i_green), axis = 2), Y_i_blue), axis = 2)\n",
    "    Image.fromarray(np.asarray(Y_i, dtype = np.uint8)).save(f'{i}.jpg')"
   ]
  },
  {
   "cell_type": "code",
   "execution_count": null,
   "id": "d10da9a1",
   "metadata": {},
   "outputs": [],
   "source": []
  }
 ],
 "metadata": {
  "kernelspec": {
   "display_name": "Python 3 (ipykernel)",
   "language": "python",
   "name": "python3"
  },
  "language_info": {
   "codemirror_mode": {
    "name": "ipython",
    "version": 3
   },
   "file_extension": ".py",
   "mimetype": "text/x-python",
   "name": "python",
   "nbconvert_exporter": "python",
   "pygments_lexer": "ipython3",
   "version": "3.9.12"
  }
 },
 "nbformat": 4,
 "nbformat_minor": 5
}
